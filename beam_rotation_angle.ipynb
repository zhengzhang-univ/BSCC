{
 "cells": [
  {
   "cell_type": "code",
   "execution_count": 1,
   "metadata": {
    "tags": []
   },
   "outputs": [],
   "source": [
    "import numpy as np\n",
    "from transformation import *\n",
    "import matplotlib.pyplot as plt\n",
    "from mpl_toolkits.mplot3d import Axes3D "
   ]
  },
  {
   "cell_type": "code",
   "execution_count": 20,
   "metadata": {
    "collapsed": false,
    "jupyter": {
     "outputs_hidden": false
    }
   },
   "outputs": [],
   "source": [
    "zAxis = np.array([1, -np.sqrt(2)/2, np.sqrt(2)/2])\n",
    "xAxis = np.array([1,0,0])\n",
    "P = pointing_matrix(xAxis,zAxis)\n",
    "xAxis_normalized, yAxis_normalized, zAxis_normalized = P[0,:], P[1,:], P[2,:]\n",
    "# components of antenna axes in horizontal coordinate system\n",
    "yAxis_normalized\n",
    "\n",
    "\n",
    "yAxis = np.cross(zAxis,xAxis)\n",
    "yAxis_normalized = yAxis/np.linalg.norm(yAxis)\n",
    "zAxis_normalized = zAxis/np.linalg.norm(zAxis)\n",
    "xAxis_normalized = np.cross(yAxis_normalized,zAxis_normalized)"
   ]
  },
  {
   "cell_type": "markdown",
   "source": [],
   "metadata": {
    "collapsed": false
   }
  },
  {
   "cell_type": "code",
   "execution_count": 26,
   "metadata": {
    "collapsed": false,
    "jupyter": {
     "outputs_hidden": false
    }
   },
   "outputs": [],
   "source": [
    "def func(lst):\n",
    "    lat = 1.5\n",
    "    rot = rotation_matrix_local2eq(lst, lat)[0]\n",
    "    zAxis_eq_car = np.einsum('ij,j -> i',rot, zAxis_normalized)\n",
    "    xAxis_eq_car = np.einsum('ij,j -> i',rot, xAxis_normalized)\n",
    "    yAxis_eq_car = np.einsum('ij,j -> i',rot, yAxis_normalized)\n",
    "    theta_phi = coordinate_mapping_car2sph(zAxis_eq_car)\n",
    "    rot_2 = rotation_matrix_car2sph(theta_phi)\n",
    "    zAxis_eq_sph = np.einsum('ij,j -> i',rot_2, zAxis_eq_car)\n",
    "    xAxis_eq_sph = np.einsum('ij,j -> i',rot_2, xAxis_eq_car)\n",
    "    yAxis_eq_sph = np.einsum('ij,j -> i',rot_2, yAxis_eq_car)\n",
    "    return xAxis_eq_sph, yAxis_eq_sph"
   ]
  },
  {
   "cell_type": "code",
   "execution_count": 27,
   "metadata": {
    "collapsed": false,
    "jupyter": {
     "outputs_hidden": false
    }
   },
   "outputs": [
    {
     "data": {
      "text/plain": "(array([-5.55111512e-17,  6.14060523e-01,  7.89258940e-01]),\n array([ 2.77555756e-17, -7.89258940e-01,  6.14060523e-01]))"
     },
     "execution_count": 27,
     "metadata": {},
     "output_type": "execute_result"
    }
   ],
   "source": [
    "func(200000)"
   ]
  },
  {
   "cell_type": "code",
   "execution_count": 7,
   "metadata": {
    "collapsed": false,
    "jupyter": {
     "outputs_hidden": false
    }
   },
   "outputs": [
    {
     "data": {
      "text/plain": "array([1.45444104, 0.57079633])"
     },
     "execution_count": 7,
     "metadata": {},
     "output_type": "execute_result"
    }
   ],
   "source": []
  },
  {
   "cell_type": "code",
   "execution_count": null,
   "metadata": {
    "collapsed": false,
    "jupyter": {
     "outputs_hidden": false
    }
   },
   "outputs": [],
   "source": []
  },
  {
   "cell_type": "code",
   "execution_count": 12,
   "metadata": {
    "collapsed": false,
    "jupyter": {
     "outputs_hidden": false
    }
   },
   "outputs": [],
   "source": [
    "lst = 200000\n",
    "lat = 1\n",
    "rot = rotation_matrix_local2eq(lst, lat)[0]\n",
    "zAxis_eq_car = np.einsum('ij,j -> i',rot, zAxis_normalized)\n",
    "xAxis_eq_car = np.einsum('ij,j -> i',rot, xAxis_normalized)\n",
    "yAxis_eq_car = np.einsum('ij,j -> i',rot, yAxis_normalized)\n",
    "theta_phi = coordinate_mapping_car2sph(zAxis_eq_car)\n",
    "rot_2 = rotation_matrix_car2sph(theta_phi)\n",
    "zAxis_eq_sph = np.einsum('ij,j -> i',rot_2, zAxis_eq_car)\n",
    "xAxis_eq_sph = np.einsum('ij,j -> i',rot_2, xAxis_eq_car)\n",
    "yAxis_eq_sph = np.einsum('ij,j -> i',rot_2, yAxis_eq_car)"
   ]
  },
  {
   "cell_type": "code",
   "execution_count": 13,
   "metadata": {
    "collapsed": false,
    "jupyter": {
     "outputs_hidden": false
    }
   },
   "outputs": [
    {
     "ename": "NameError",
     "evalue": "name 'theta' is not defined",
     "output_type": "error",
     "traceback": [
      "\u001B[0;31m---------------------------------------------------------------------------\u001B[0m",
      "\u001B[0;31mNameError\u001B[0m                                 Traceback (most recent call last)",
      "Input \u001B[0;32mIn [13]\u001B[0m, in \u001B[0;36m<cell line: 1>\u001B[0;34m()\u001B[0m\n\u001B[0;32m----> 1\u001B[0m theta_hat_eq \u001B[38;5;241m=\u001B[39m np\u001B[38;5;241m.\u001B[39marray([np\u001B[38;5;241m.\u001B[39mcos(\u001B[43mtheta\u001B[49m)\u001B[38;5;241m*\u001B[39mnp\u001B[38;5;241m.\u001B[39mcos(phi), np\u001B[38;5;241m.\u001B[39mcos(theta)\u001B[38;5;241m*\u001B[39mnp\u001B[38;5;241m.\u001B[39msin(phi), \u001B[38;5;241m-\u001B[39mnp\u001B[38;5;241m.\u001B[39msin(theta)])\n\u001B[1;32m      2\u001B[0m phi_hat_eq \u001B[38;5;241m=\u001B[39m np\u001B[38;5;241m.\u001B[39marray([\u001B[38;5;241m-\u001B[39mnp\u001B[38;5;241m.\u001B[39msin(phi), np\u001B[38;5;241m.\u001B[39mcos(phi), \u001B[38;5;241m0\u001B[39m])\n\u001B[1;32m      3\u001B[0m theta_hat_local \u001B[38;5;241m=\u001B[39m rotation_matrix_eq2local(lst, lat)[\u001B[38;5;241m0\u001B[39m]\u001B[38;5;129m@theta_hat_eq\u001B[39m\n",
      "\u001B[0;31mNameError\u001B[0m: name 'theta' is not defined"
     ]
    }
   ],
   "source": [
    "theta_hat_eq = np.array([np.cos(theta)*np.cos(phi), np.cos(theta)*np.sin(phi), -np.sin(theta)])\n",
    "phi_hat_eq = np.array([-np.sin(phi), np.cos(phi), 0])\n",
    "theta_hat_local = rotation_matrix_eq2local(lst, lat)[0]@theta_hat_eq\n",
    "phi_hat_local = rotation_matrix_eq2local(lst, lat)[0]@phi_hat_eq"
   ]
  },
  {
   "cell_type": "code",
   "execution_count": 9,
   "metadata": {
    "collapsed": false,
    "jupyter": {
     "outputs_hidden": false
    }
   },
   "outputs": [
    {
     "data": {
      "text/plain": [
       "array([[ 0.09768882,  0.83578126, -0.54030231],\n",
       "       [-0.99323836,  0.11609291,  0.        ],\n",
       "       [ 0.06272527,  0.53664897,  0.84147098]])"
      ]
     },
     "execution_count": 9,
     "metadata": {},
     "output_type": "execute_result"
    }
   ],
   "source": [
    "rot"
   ]
  },
  {
   "cell_type": "code",
   "execution_count": 10,
   "metadata": {
    "collapsed": false,
    "jupyter": {
     "outputs_hidden": false
    }
   },
   "outputs": [
    {
     "data": {
      "text/plain": [
       "array([-0.54030231,  0.        ,  0.84147098])"
      ]
     },
     "execution_count": 10,
     "metadata": {},
     "output_type": "execute_result"
    }
   ],
   "source": [
    "zAxis_eq_car"
   ]
  },
  {
   "cell_type": "code",
   "execution_count": 11,
   "metadata": {
    "collapsed": false,
    "jupyter": {
     "outputs_hidden": false
    }
   },
   "outputs": [
    {
     "data": {
      "text/plain": [
       "array([[-5.40302306e-01, -8.41470985e-01, -1.22464680e-16],\n",
       "       [ 6.61679489e-17,  1.03050475e-16, -1.00000000e+00],\n",
       "       [ 8.41470985e-01, -5.40302306e-01,  0.00000000e+00]])"
      ]
     },
     "execution_count": 11,
     "metadata": {},
     "output_type": "execute_result"
    }
   ],
   "source": [
    "rot_2"
   ]
  },
  {
   "cell_type": "code",
   "execution_count": null,
   "metadata": {
    "collapsed": false,
    "jupyter": {
     "outputs_hidden": false
    }
   },
   "outputs": [],
   "source": [
    "fig = plt.figure()\n",
    "ax = fig.add_subplot(111, projection='3d')\n",
    "#x,y,z = theta_hat_local\n",
    "#ax.quiver(0,0,0,x,y,z)\n",
    "x,y,z = phi_hat_local\n",
    "ax.quiver(0,0,0,x,y,z,headwidth=0, headlength=0, headaxislength=0)\n",
    "plt.show()"
   ]
  },
  {
   "cell_type": "code",
   "execution_count": null,
   "metadata": {
    "collapsed": false,
    "jupyter": {
     "outputs_hidden": false
    }
   },
   "outputs": [],
   "source": [
    "phi_hat_local"
   ]
  },
  {
   "cell_type": "code",
   "execution_count": null,
   "metadata": {
    "collapsed": false,
    "jupyter": {
     "outputs_hidden": false
    }
   },
   "outputs": [],
   "source": [
    "theta_hat_eq"
   ]
  },
  {
   "cell_type": "code",
   "execution_count": null,
   "metadata": {
    "collapsed": false,
    "jupyter": {
     "outputs_hidden": false
    }
   },
   "outputs": [],
   "source": [
    "rotation_matrix_eq2local(lst, lat)"
   ]
  },
  {
   "cell_type": "code",
   "execution_count": null,
   "metadata": {
    "collapsed": false,
    "jupyter": {
     "outputs_hidden": false
    }
   },
   "outputs": [],
   "source": []
  }
 ],
 "metadata": {
  "kernelspec": {
   "display_name": "Python 3 (ipykernel)",
   "language": "python",
   "name": "python3"
  },
  "language_info": {
   "codemirror_mode": {
    "name": "ipython",
    "version": 3
   },
   "file_extension": ".py",
   "mimetype": "text/x-python",
   "name": "python",
   "nbconvert_exporter": "python",
   "pygments_lexer": "ipython3",
   "version": "3.10.6"
  }
 },
 "nbformat": 4,
 "nbformat_minor": 4
}
