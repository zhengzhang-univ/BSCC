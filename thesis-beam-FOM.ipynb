{
 "cells": [
  {
   "cell_type": "code",
   "execution_count": null,
   "id": "e48f32f5-4f6c-45d7-b5f9-bbb5312d25d9",
   "metadata": {},
   "outputs": [],
   "source": []
  },
  {
   "cell_type": "code",
   "execution_count": 1,
   "id": "b0849557-48f8-4a87-8da9-ec820cb26a65",
   "metadata": {},
   "outputs": [],
   "source": [
    "import numpy as np\n",
    "import matplotlib.pyplot as plt\n",
    "\n",
    "from scipy.fftpack import dctn, fftn, fftshift, fftfreq\n",
    "from scipy.io import loadmat\n",
    "from scipy.interpolate import RectBivariateSpline, RectSphereBivariateSpline\n",
    "\n",
    "from cora.signal import corr21cm\n",
    "from cora.foreground import gaussianfg, galaxy\n",
    "\n",
    "from util import *"
   ]
  },
  {
   "cell_type": "code",
   "execution_count": 2,
   "id": "256cd0ed-46aa-4816-b4cf-e27346b6d86e",
   "metadata": {},
   "outputs": [
    {
     "name": "stderr",
     "output_type": "stream",
     "text": [
      "/var/folders/69/cq4y0nj97qb_376qpg8lsjf80000gn/T/ipykernel_5337/837851083.py:2: UserWarning: Input line 1 contained no data and will not be counted towards `max_rows=65341`.  This differs from the behaviour in NumPy <=1.22 which counted lines rather than rows.  If desired, the previous behaviour can be achieved by using `itertools.islice`.\n",
      "Please see the 1.23 release notes for an example on how to do this.  If you wish to ignore this warning, use `warnings.filterwarnings`.  This warning is expected to be removed in the future and is given only once per `loadtxt` call.\n",
      "  antenna_sph_coords = np.loadtxt(path,\n",
      "/var/folders/69/cq4y0nj97qb_376qpg8lsjf80000gn/T/ipykernel_5337/837851083.py:8: UserWarning: Input line 1 contained no data and will not be counted towards `max_rows=65341`.  This differs from the behaviour in NumPy <=1.22 which counted lines rather than rows.  If desired, the previous behaviour can be achieved by using `itertools.islice`.\n",
      "Please see the 1.23 release notes for an example on how to do this.  If you wish to ignore this warning, use `warnings.filterwarnings`.  This warning is expected to be removed in the future and is given only once per `loadtxt` call.\n",
      "  E1 = (np.loadtxt(path,\n",
      "/var/folders/69/cq4y0nj97qb_376qpg8lsjf80000gn/T/ipykernel_5337/837851083.py:12: UserWarning: Input line 1 contained no data and will not be counted towards `max_rows=65341`.  This differs from the behaviour in NumPy <=1.22 which counted lines rather than rows.  If desired, the previous behaviour can be achieved by using `itertools.islice`.\n",
      "Please see the 1.23 release notes for an example on how to do this.  If you wish to ignore this warning, use `warnings.filterwarnings`.  This warning is expected to be removed in the future and is given only once per `loadtxt` call.\n",
      "  ) + 1j * np.loadtxt(path,\n"
     ]
    }
   ],
   "source": [
    "path = \"/Users/zhengzhang/PythonProjects/TIBEC/HIRAX_201.txt\"\n",
    "antenna_sph_coords = np.loadtxt(path,\n",
    "                                comments=('// >>', '361 181', '#'),\n",
    "                                usecols=(0, 1),\n",
    "                                max_rows=361 * 181, ).reshape(-1, 2)\n",
    "\n",
    "\n",
    "E1 = (np.loadtxt(path,\n",
    "                      comments=('// >>', '361 181'),\n",
    "                      usecols=(2, 4),\n",
    "                      max_rows=361 * 181,\n",
    "                      ) + 1j * np.loadtxt(path,\n",
    "                                          comments=('// >>', '361 181'),\n",
    "                                          usecols=(3, 5),\n",
    "                                          max_rows=361 * 181,\n",
    "                                          )).reshape(361 * 181, 2)\n",
    "\n",
    "\n",
    "aux = antenna_sph_coords[:,1]\n",
    "nphi, ntheta = 361, 89\n",
    "E1 = E1[ np.where(np.logical_and(aux>0, aux<90)), :].reshape(nphi, ntheta, 2)\n",
    "phis = np.deg2rad(np.arange(361))\n",
    "thetas = np.deg2rad(np.arange(90)[1:])"
   ]
  },
  {
   "cell_type": "code",
   "execution_count": 3,
   "id": "cb4297b9-5773-48da-b3e5-94f2287106f9",
   "metadata": {},
   "outputs": [],
   "source": [
    "Pauli_I = 0.5 * np.array([[1., 0.],\n",
    "                          [0., 1.]])\n",
    "Pauli_Q = 0.5 * np.array([[1., 0.],\n",
    "                          [0., -1.]])\n",
    "Pauli_U = 0.5 * np.array([[0., 1.],\n",
    "                          [1., 0.]])\n",
    "Pauli_V = 0.5 * np.array([[0., -1.j],\n",
    "                          [1.j, 0.]])\n",
    "\n",
    "pauli_array = np.array([Pauli_I, Pauli_Q, Pauli_U, Pauli_V])    "
   ]
  },
  {
   "cell_type": "code",
   "execution_count": 4,
   "id": "fdf725cc-7a3c-47ad-8c2d-e030cbaa96df",
   "metadata": {},
   "outputs": [],
   "source": [
    "Ndim=150\n",
    "thetaMax = np.deg2rad(45)\n",
    "radius = 2.*np.tan(thetaMax/2.)\n",
    "x_coord, y_coord = np.linspace(-radius, radius, Ndim), np.linspace(-radius, radius, Ndim)\n",
    "grid_y, grid_x = np.meshgrid(x_coord, y_coord)\n",
    "target_phi, target_theta = plane2sphere_v2(grid_x.flatten(), grid_y.flatten()) # In degrees\n",
    "\n",
    "B_matrix = np.einsum(\"fsi, pim, fsm -> sfp\",\n",
    "                             np.conjugate(E1), # Field in Cartesian grid.\n",
    "                             pauli_array,\n",
    "                             E1).real\n",
    "\n",
    "# Interpolation:\n",
    "B_matrix = interpolation(Ndim, phis, thetas, B_matrix, target_phi, target_theta)\n",
    "\n",
    "# Rescaling power density for the projected field\n",
    "grid_target_theta = target_theta.reshape(grid_x.shape)\n",
    "B_matrix = Beam_scaled(B_matrix, grid_target_theta)\n",
    "# Normalize the beam\n",
    "normalization_factor = 1 / np.sum(B_matrix[:, :, 0])\n",
    "B_matrix *= normalization_factor\n",
    "\n",
    "#B_matrix = directional_window(B_matrix, grid_target_theta, 50.)\n",
    "\n",
    "\n",
    "\n",
    "del E1, antenna_sph_coords, grid_target_theta, grid_x, grid_y, target_phi, target_theta\n"
   ]
  },
  {
   "cell_type": "code",
   "execution_count": 5,
   "id": "ad50f77c-b8dd-46da-9845-f8f8ef3e8b7e",
   "metadata": {},
   "outputs": [
    {
     "name": "stdout",
     "output_type": "stream",
     "text": [
      "X_k: min=5.729577951308232, max=57.29577951308232\n"
     ]
    }
   ],
   "source": [
    "print(\"X_k: min={}, max={}\".format(1/np.deg2rad(10), 1/np.deg2rad(1)))"
   ]
  },
  {
   "cell_type": "code",
   "execution_count": 6,
   "id": "6fc960cf-f6ca-4d96-8ef4-0aca39dcaad1",
   "metadata": {},
   "outputs": [],
   "source": [
    "# Beam pixel resolutions\n",
    "x_res = np.abs(x_coord[1] - x_coord[0])\n",
    "y_res = np.abs(y_coord[1] - y_coord[0])\n",
    "\n",
    "x_fft_coords = fftshift(fftfreq(x_coord.size, d=x_res))\n",
    "y_fft_coords = fftshift(fftfreq(y_coord.size, d=y_res))\n",
    "                                \n",
    "Beam_fft = fftshift(fftn(B_matrix, axes=(0, 1)), axes=(0, 1))\n",
    "\n",
    "del B_matrix\n",
    "# plt.imshow(np.abs(Beam_fft[:, :, 0])) "
   ]
  },
  {
   "cell_type": "code",
   "execution_count": 7,
   "id": "7a43db69-a36e-4a3d-a9be-099692fecf5a",
   "metadata": {},
   "outputs": [
    {
     "data": {
      "text/plain": [
       "'\\nbln = 15. # In units of wavelength.\\nd, (q_x, q_y) =  q_matrix(x_fft_coords, y_fft_coords, bln*np.sqrt(3)) # q_array: [q_x[...], q_y[...]]\\ntotal_beam_matrix = np.array([4*FFT_Beam_matrix(Beam_fft, d, 0, 0),\\n                              FFT_Beam_matrix(Beam_fft, d, bln, 0), \\n                             2*FFT_Beam_matrix(Beam_fft, d, bln, 60),\\n                             2*FFT_Beam_matrix(Beam_fft, d, bln, 120),\\n                              FFT_Beam_matrix(Beam_fft, d, bln*np.sqrt(3), 90) ])[:, :, :, :3]\\n\\n'"
      ]
     },
     "execution_count": 7,
     "metadata": {},
     "output_type": "execute_result"
    }
   ],
   "source": [
    "\"\"\"\n",
    "bln = 15. # In units of wavelength.\n",
    "d, (q_x, q_y) =  q_matrix(x_fft_coords, y_fft_coords, bln*np.sqrt(3)) # q_array: [q_x[...], q_y[...]]\n",
    "total_beam_matrix = np.array([4*FFT_Beam_matrix(Beam_fft, d, 0, 0),\n",
    "                              FFT_Beam_matrix(Beam_fft, d, bln, 0), \n",
    "                             2*FFT_Beam_matrix(Beam_fft, d, bln, 60),\n",
    "                             2*FFT_Beam_matrix(Beam_fft, d, bln, 120),\n",
    "                              FFT_Beam_matrix(Beam_fft, d, bln*np.sqrt(3), 90) ])[:, :, :, :3]\n",
    "\n",
    "\"\"\""
   ]
  },
  {
   "cell_type": "code",
   "execution_count": 8,
   "id": "f5bd74fa-26b8-413f-8984-929ce40a550f",
   "metadata": {},
   "outputs": [],
   "source": [
    "bln = 10. # In units of wavelength.\n",
    "d, (q_x, q_y) =  q_matrix(x_fft_coords, y_fft_coords, np.sqrt(3)*bln) # q_array: [q_x[...], q_y[...]]\n",
    "total_beam_matrix = np.array([FFT_Beam_matrix(Beam_fft, x_fft_coords, y_fft_coords, d, bln, 0),\n",
    "                              2*FFT_Beam_matrix(Beam_fft, x_fft_coords, y_fft_coords, d, bln, 60),\n",
    "                              2*FFT_Beam_matrix(Beam_fft, x_fft_coords, y_fft_coords, d, bln, 120),\n",
    "                              FFT_Beam_matrix(Beam_fft, x_fft_coords, y_fft_coords, d, np.sqrt(3)*bln, 90)], \n",
    "                             dtype=np.complex64 )[:, :, :, :3]\n",
    "q_absolute = 2 * np.pi * np.sqrt(q_x**2 + q_y**2)"
   ]
  },
  {
   "cell_type": "code",
   "execution_count": null,
   "id": "dd5c94b3-4d77-448e-bf37-518fb334b62f",
   "metadata": {},
   "outputs": [],
   "source": [
    "dim = q_x.shape[0]\n",
    "mixing_matrix = np.zeros(shape=(dim,dim,dim,dim))\n",
    "sigma = np.deg2rad(1)\n",
    "for y in range(dim):\n",
    "    for x in range(dim): \n",
    "        aux = np.exp( ((q_x - q_x[y,x])**2 + (q_y - q_y[y,x])**2 )* sigma**2 / 2.)\n",
    "        mixing_matrix[y,x, :, :] = aux"
   ]
  },
  {
   "cell_type": "code",
   "execution_count": null,
   "id": "f790ff12-7443-4af0-acc5-4436ebbdaffa",
   "metadata": {},
   "outputs": [],
   "source": [
    "\"\"\"\n",
    "beam_err_matrix = np.zeros(shape=(5,dim,dim,dim,dim,3), dtype=complex)\n",
    "\n",
    "for y in range(dim):\n",
    "    for x in range(dim): \n",
    "        aux = np.exp( ((q_x - q_x[y,x])**2 + (q_y - q_y[y,x])**2 )* sigma**2 / 2.)\n",
    "        beam_err_matrix[:, y, x, :, :, :] = aux[np.newaxis, :, :, np.newaxis] * total_beam_matrix\n",
    "\"\"\""
   ]
  },
  {
   "cell_type": "code",
   "execution_count": null,
   "id": "e3b89114-c6bc-43f4-ba91-eb5e48b70a8e",
   "metadata": {},
   "outputs": [],
   "source": [
    "n_bln = 4\n",
    "mixing_matrix = mixing_matrix.reshape(dim*dim, dim*dim)\n",
    "total_beam_matrix = total_beam_matrix.reshape(n_bln, dim*dim, 3)"
   ]
  },
  {
   "cell_type": "code",
   "execution_count": null,
   "id": "e5a330bf-9c3f-4327-8374-ab3f0933e83a",
   "metadata": {},
   "outputs": [],
   "source": [
    "delta_beam_matrix = np.zeros(shape=(n_bln,dim*dim,dim*dim,3), dtype=complex)\n",
    "for bl in range(delta_beam_matrix.shape[0]):\n",
    "    for pol in range(delta_beam_matrix.shape[-1]):\n",
    "        delta_beam_matrix[bl, :, :, pol] = mixing_matrix @ np.diag(total_beam_matrix[bl, :, pol])\n",
    "        \n",
    "del total_beam_matrix"
   ]
  },
  {
   "cell_type": "code",
   "execution_count": null,
   "id": "f4a8d23c-3c5d-4fa3-a690-ef4b79315268",
   "metadata": {},
   "outputs": [],
   "source": [
    "del mixing_matrix\n",
    "\n",
    "delta_beam_i = delta_beam_matrix[:, :, :, 0].reshape(n_bln*dim*dim,dim*dim) \n",
    "\n",
    "delta_beam_p = delta_beam_matrix[:, :, :, 1:].reshape(n_bln*dim*dim,dim*dim*2) \n",
    "\n",
    "del delta_beam_matrix\n"
   ]
  },
  {
   "cell_type": "code",
   "execution_count": null,
   "id": "fcebca30-23db-425e-8f0a-2347978995c6",
   "metadata": {},
   "outputs": [],
   "source": []
  },
  {
   "cell_type": "code",
   "execution_count": null,
   "id": "35a3f2f3-e44e-4ce0-88d3-56e886260881",
   "metadata": {},
   "outputs": [],
   "source": [
    "BBt_inv = delta_beam_p.conj().T @ delta_beam_p # (2Ns, Nd) x (Nd, 2Ns)"
   ]
  },
  {
   "cell_type": "code",
   "execution_count": null,
   "id": "468f34d6-c36d-4c9a-9801-a15c1bf666bf",
   "metadata": {},
   "outputs": [],
   "source": [
    "BBt_inv = np.linalg.inv(BBt_inv) # (2Ns, 2Ns)"
   ]
  },
  {
   "cell_type": "code",
   "execution_count": null,
   "id": "899ab98b-14c0-40c4-b361-8a57d5355a80",
   "metadata": {},
   "outputs": [],
   "source": []
  },
  {
   "cell_type": "code",
   "execution_count": null,
   "id": "6992c750-cf77-4d55-b266-75d0a23c4164",
   "metadata": {},
   "outputs": [],
   "source": [
    "AtB = delta_beam_i.conj().T @ delta_beam_p # (Ns, Nd) x (Nd, 2Ns)"
   ]
  },
  {
   "cell_type": "code",
   "execution_count": null,
   "id": "b6012708-4432-43b9-a160-93adb16d4149",
   "metadata": {},
   "outputs": [],
   "source": [
    "AtB_BBt_inv = AtB @ BBt_inv  # (Ns, 2Ns) x (2Ns, 2Ns)\n",
    "del BBt_inv"
   ]
  },
  {
   "cell_type": "code",
   "execution_count": null,
   "id": "5b2b3851-5cbb-4c8b-ac6e-4ba6db0262f4",
   "metadata": {},
   "outputs": [],
   "source": [
    "AtB_BBt_inv@AtB.conj().T"
   ]
  },
  {
   "cell_type": "code",
   "execution_count": null,
   "id": "c2f87a53-1fe6-440c-8530-4ecb2c6c8439",
   "metadata": {},
   "outputs": [],
   "source": [
    "aux1 = aux1 @ delta_beam_p.conj().T   # (Ns, 2Ns) x (2Ns, Nd)\n",
    "U = delta_beam_i.conj().T - aux1 # (Ns,  Nd)\n",
    "del aux1"
   ]
  },
  {
   "cell_type": "code",
   "execution_count": null,
   "id": "495aac08-a222-425e-be96-db9c22597b10",
   "metadata": {},
   "outputs": [],
   "source": [
    "K = U @ delta_beam_i # (Ns,  Nd) x (Nd, Ns)"
   ]
  },
  {
   "cell_type": "code",
   "execution_count": null,
   "id": "6144f80d-f9f2-457e-8f64-316c5a243040",
   "metadata": {},
   "outputs": [],
   "source": [
    "K = np.linalg.inv(K)"
   ]
  },
  {
   "cell_type": "code",
   "execution_count": null,
   "id": "cbc7d766-b44d-4dc1-a5c6-be678c559dd5",
   "metadata": {},
   "outputs": [],
   "source": [
    "K = K @ U\n",
    "del U"
   ]
  },
  {
   "cell_type": "code",
   "execution_count": null,
   "id": "27f7a49d-a34e-4b51-85c3-720df50b6727",
   "metadata": {},
   "outputs": [],
   "source": [
    "delta_beam_i = K@delta_beam_i"
   ]
  },
  {
   "cell_type": "code",
   "execution_count": null,
   "id": "ab3cd737-df5b-49c8-b228-3423b224ecb2",
   "metadata": {},
   "outputs": [],
   "source": [
    "delta_beam_p = K@delta_beam_p\n",
    "del K"
   ]
  },
  {
   "cell_type": "code",
   "execution_count": null,
   "id": "bb53fa07-5a5d-4560-8b7c-30109b47fb23",
   "metadata": {},
   "outputs": [],
   "source": []
  },
  {
   "cell_type": "code",
   "execution_count": null,
   "id": "2bb4c3a9-9c83-49a0-883d-383e6ac6f7f0",
   "metadata": {},
   "outputs": [],
   "source": [
    "def MLE_oper_marginalize_pol_wo_prior(matr_A, matr_B):\n",
    "    print(\"Step 1 ...\")\n",
    "    aux1 = matr_B.conj().T @ matr_B\n",
    "    print(\"Step 2 ...\")\n",
    "    aux1 = np.linalg.inv(aux1)\n",
    "    print(\"Step 3 ...\")\n",
    "    aux2 = matr_A.conj().T @ matr_B\n",
    "    aux1 = aux2 @ aux1\n",
    "    del aux2 \n",
    "    aux1 = aux1 @ matr_B.conj().T\n",
    "    aux1 = matr_A.conj().T - aux1 \n",
    "    C = aux1@matr_A\n",
    "    C = np.linalg.inv(C)\n",
    "    C = C @ aux1\n",
    "    return C"
   ]
  },
  {
   "cell_type": "code",
   "execution_count": null,
   "id": "5ab419e8-69ff-4359-a5fb-5c5f24c2f274",
   "metadata": {},
   "outputs": [],
   "source": [
    "K = MLE_oper_marginalize_pol_wo_prior(delta_beam_i, delta_beam_p)"
   ]
  },
  {
   "cell_type": "code",
   "execution_count": null,
   "id": "58c003ba-9286-48d6-87c0-d577eeae1f58",
   "metadata": {},
   "outputs": [],
   "source": [
    "delta_beam_i = K@delta_beam_i\n",
    "delta_beam_p = K@delta_beam_p\n",
    "del K"
   ]
  },
  {
   "cell_type": "code",
   "execution_count": 9,
   "id": "2a6a714a-5c5b-4adf-a42f-2e2b70c684f1",
   "metadata": {},
   "outputs": [],
   "source": [
    "freq = 400.\n",
    "pol_frac = 0.6\n",
    "\n",
    "fsyn = galaxy.FullSkySynchrotron()\n",
    "fpol = galaxy.FullSkyPolarisedSynchrotron()\n",
    "vectorized_syn_aps = np.vectorize(fsyn.angular_powerspectrum)\n",
    "vectorized_pol_aps = np.vectorize(fpol.angular_powerspectrum)\n",
    "\n",
    "q_absolute=q_absolute.flatten()\n",
    "q_abs_filtered = q_absolute[np.where(q_absolute>5)]\n",
    "\n",
    "cv_fg_i = vectorized_syn_aps(q_abs_filtered, freq, freq)\n",
    "cv_fg_p = np.zeros(shape=np.append(q_abs_filtered.shape, 2))\n",
    "cv_fg_p[:, 0] = pol_frac * vectorized_pol_aps(q_abs_filtered, freq, freq)\n",
    "cv_fg_p[:, 1] = pol_frac * vectorized_pol_aps(q_abs_filtered, freq, freq)\n",
    "\n",
    "np.savetxt('cv_fg_i.out', cv_fg_i.reshape(-1), delimiter=',') \n",
    "np.savetxt('cv_fg_p.out', cv_fg_p.reshape(-1), delimiter=',') "
   ]
  },
  {
   "cell_type": "code",
   "execution_count": null,
   "id": "61c11f0c-abdb-4a5a-9548-8b634520a5fd",
   "metadata": {},
   "outputs": [],
   "source": [
    "P_delta_I = aux@cv_fg_i@aux.conj().T + aux@cv_fg_i + cv_fg_i@aux.conj().T\n",
    "P_delta_p = aux@cv_fg_p@aux.conj().T "
   ]
  },
  {
   "cell_type": "code",
   "execution_count": null,
   "id": "2c471d08-10fc-43d7-a290-594dd982a433",
   "metadata": {},
   "outputs": [],
   "source": [
    "q_absolute=q_absolute.flatten()"
   ]
  },
  {
   "cell_type": "code",
   "execution_count": null,
   "id": "7dc29a5e-82f1-4db8-ae60-5cf5171ee32e",
   "metadata": {},
   "outputs": [],
   "source": [
    "q_absolute[np.where(q_absolute[:4]>5)].shape"
   ]
  },
  {
   "cell_type": "code",
   "execution_count": null,
   "id": "16822dc1-8376-4324-8894-e369a196f024",
   "metadata": {},
   "outputs": [],
   "source": [
    "np.arange(36).reshape(6,6)[:2,np.where(q_absolute[:4]>5)]"
   ]
  },
  {
   "cell_type": "code",
   "execution_count": null,
   "id": "5bcf9b21-6931-4dec-9769-bbd98611cd7c",
   "metadata": {},
   "outputs": [],
   "source": [
    "87*87"
   ]
  },
  {
   "cell_type": "code",
   "execution_count": null,
   "id": "25e50b79-ca4d-4c4d-a633-bf4a4bae154d",
   "metadata": {},
   "outputs": [],
   "source": [
    "np.where(q_absolute<3) "
   ]
  },
  {
   "cell_type": "code",
   "execution_count": null,
   "id": "317b92a4-ba42-4dc3-ad4d-eabcb8bb7f52",
   "metadata": {},
   "outputs": [],
   "source": [
    "vectorized_pol_aps(aux, freq, freq)"
   ]
  },
  {
   "cell_type": "code",
   "execution_count": null,
   "id": "20a4be9e-68ed-48c1-a2f2-98edc5e223ef",
   "metadata": {},
   "outputs": [],
   "source": [
    "np.array((np.arange(5), np.arange(5)+1)).swapaxes(1, 0)"
   ]
  },
  {
   "cell_type": "code",
   "execution_count": null,
   "id": "d28be190-4c37-4aae-b59b-3d87c2917ee6",
   "metadata": {},
   "outputs": [],
   "source": [
    "cv_fg_i"
   ]
  },
  {
   "cell_type": "code",
   "execution_count": null,
   "id": "5b55beb6-f488-43f6-9de4-754d1822db7d",
   "metadata": {},
   "outputs": [],
   "source": []
  }
 ],
 "metadata": {
  "kernelspec": {
   "display_name": "Python 3 (ipykernel)",
   "language": "python",
   "name": "python3"
  },
  "language_info": {
   "codemirror_mode": {
    "name": "ipython",
    "version": 3
   },
   "file_extension": ".py",
   "mimetype": "text/x-python",
   "name": "python",
   "nbconvert_exporter": "python",
   "pygments_lexer": "ipython3",
   "version": "3.9.12"
  }
 },
 "nbformat": 4,
 "nbformat_minor": 5
}
